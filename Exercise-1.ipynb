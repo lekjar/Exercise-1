{
 "cells": [
  {
   "cell_type": "code",
   "execution_count": 2,
   "id": "21f2c554-306b-4668-bb12-e9d41edfdd18",
   "metadata": {
    "tags": []
   },
   "outputs": [],
   "source": [
    "ice_cream_rating = 1"
   ]
  },
  {
   "cell_type": "code",
   "execution_count": 4,
   "id": "df063019-db18-458c-8155-72f10be3ce9e",
   "metadata": {
    "tags": []
   },
   "outputs": [],
   "source": [
    "sleeping_rating = 9"
   ]
  },
  {
   "cell_type": "code",
   "execution_count": 5,
   "id": "e88c6b59-8d50-45ee-84e8-8b628e7a37ba",
   "metadata": {
    "tags": []
   },
   "outputs": [],
   "source": [
    "first_name = 'Leena'"
   ]
  },
  {
   "cell_type": "code",
   "execution_count": 11,
   "id": "3267b7c0-aa87-4310-b0ed-59f401e62be0",
   "metadata": {
    "tags": []
   },
   "outputs": [],
   "source": [
    "last_name = ' Järveläinen'"
   ]
  },
  {
   "cell_type": "code",
   "execution_count": 12,
   "id": "ce83c9b0-9bc9-4d62-89a2-da212252c84b",
   "metadata": {
    "tags": []
   },
   "outputs": [
    {
     "name": "stdout",
     "output_type": "stream",
     "text": [
      "Leena Järveläinen\n"
     ]
    }
   ],
   "source": [
    "my_name =(first_name + last_name)\n",
    "print(my_name)"
   ]
  },
  {
   "cell_type": "code",
   "execution_count": 16,
   "id": "adce42ec-8c7d-4b12-a7b6-c345c00ef394",
   "metadata": {
    "tags": []
   },
   "outputs": [],
   "source": [
    "happiness_rating = ((ice_cream_rating + sleeping_rating)/2)"
   ]
  },
  {
   "cell_type": "code",
   "execution_count": 17,
   "id": "910351e4-24f9-45e9-add8-095db62dfcdc",
   "metadata": {
    "tags": []
   },
   "outputs": [
    {
     "name": "stdout",
     "output_type": "stream",
     "text": [
      "5.0\n"
     ]
    }
   ],
   "source": [
    "print(happiness_rating)"
   ]
  },
  {
   "cell_type": "code",
   "execution_count": 21,
   "id": "3e301852-2674-40f1-b9da-084a32be177a",
   "metadata": {
    "tags": []
   },
   "outputs": [
    {
     "name": "stdout",
     "output_type": "stream",
     "text": [
      "<class 'int'> <class 'str'> <class 'float'>\n"
     ]
    }
   ],
   "source": [
    "print(type(ice_cream_rating), type(first_name), type(happiness_rating))"
   ]
  },
  {
   "cell_type": "markdown",
   "id": "39c1aabc-33e5-44d6-90d0-4b1d9b0dd2ac",
   "metadata": {},
   "source": [
    "ice_cream_rating is int, Whole integer values, which makes sense, since ice_cream_rating is whole number. first_name is str, Character strings, which makes sense, since first_name is a word. happiness_rating is float, Decimal values, which makes sence, since happiness_rating is a result of a math calculation."
   ]
  },
  {
   "cell_type": "code",
   "execution_count": 35,
   "id": "a8cda7fa-7c8d-4ca8-ab2a-639e72471a6d",
   "metadata": {
    "tags": []
   },
   "outputs": [
    {
     "name": "stdout",
     "output_type": "stream",
     "text": [
      "My name is Leena and I give eating ice cream a score of 1 out of 10!\n"
     ]
    }
   ],
   "source": [
    "print(\"My name is\", first_name , \"and I give eating ice cream a score of\", ice_cream_rating, \"out of 10!\")"
   ]
  },
  {
   "cell_type": "code",
   "execution_count": 34,
   "id": "9e3e93e0-07ef-4183-82bd-2c6b817e0ad9",
   "metadata": {
    "tags": []
   },
   "outputs": [
    {
     "name": "stdout",
     "output_type": "stream",
     "text": [
      "I am Leena Järveläinen and my sleeping enjoyment rating is 9 / 10!\n"
     ]
    }
   ],
   "source": [
    "print(\"I am\", my_name , \"and my sleeping enjoyment rating is\", sleeping_rating, \"/ 10!\")"
   ]
  },
  {
   "cell_type": "code",
   "execution_count": 40,
   "id": "d1040f6b-6e5c-4ba8-904b-e30f3910080e",
   "metadata": {
    "tags": []
   },
   "outputs": [
    {
     "name": "stdout",
     "output_type": "stream",
     "text": [
      "Based on the factors above, my happiness rating is 5.0 out of 10, or 50.0 %!\n"
     ]
    }
   ],
   "source": [
    "print(\"Based on the factors above, my happiness rating is\", happiness_rating, \"out of 10, or\", happiness_rating*10, \"%!\")"
   ]
  }
 ],
 "metadata": {
  "kernelspec": {
   "display_name": "Python 3 (ipykernel)",
   "language": "python",
   "name": "python3"
  },
  "language_info": {
   "codemirror_mode": {
    "name": "ipython",
    "version": 3
   },
   "file_extension": ".py",
   "mimetype": "text/x-python",
   "name": "python",
   "nbconvert_exporter": "python",
   "pygments_lexer": "ipython3",
   "version": "3.10.12"
  }
 },
 "nbformat": 4,
 "nbformat_minor": 5
}
